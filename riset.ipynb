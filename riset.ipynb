{
 "cells": [
  {
   "cell_type": "code",
   "execution_count": 2,
   "metadata": {},
   "outputs": [
    {
     "name": "stdout",
     "output_type": "stream",
     "text": [
      "{'S_ID': 'WABOT_TOKEN', 'S_VALUE': 'CrrwBDFIcUzhyzh1RqfpR9M7Oo3MnCVf3aTRhauidFUdijprYzwePFm81LbHSkJm', 'S_INFO': 'Token WhatsApp bot'}\n",
      "Request berhasil! Respon: {\"status\":true,\"message\":\"Text Message is pending and waiting to be processed. with error: 0\",\"data\":{\"device_id\":\"77AZ2R\",\"quota\":\"unlimited\",\"messages\":[{\"id\":\"08c725ec-aed7-4b8f-83f1-a6282dc306f9\",\"phone\":\"6281215992673\",\"message\":\"halo\",\"status\":\"pending\",\"ref_id\":null}]}}\n"
     ]
    },
    {
     "data": {
      "text/plain": [
       "True"
      ]
     },
     "execution_count": 2,
     "metadata": {},
     "output_type": "execute_result"
    }
   ],
   "source": [
    "import helper\n",
    "\n",
    "helper.send_wa(\"6281215992673\", \"halo\")"
   ]
  },
  {
   "cell_type": "code",
   "execution_count": 1,
   "metadata": {},
   "outputs": [
    {
     "name": "stdout",
     "output_type": "stream",
     "text": [
      "{'S_ID': 'WABOT_TOKEN', 'S_VALUE': 'CrrwBDFIcUzhyzh1RqfpR9M7Oo3MnCVf3aTRhauidFUdijprYzwePFm81LbHSkJm', 'S_INFO': 'Token WhatsApp bot'}\n",
      "CrrwBDFIcUzhyzh1RqfpR9M7Oo3MnCVf3aTRhauidFUdijprYzwePFm81LbHSkJm\n"
     ]
    }
   ],
   "source": [
    "import helper\n",
    "print(helper.get_setting(\"WABOT_TOKEN\"))"
   ]
  },
  {
   "cell_type": "code",
   "execution_count": null,
   "metadata": {},
   "outputs": [],
   "source": [
    "import pymysql\n",
    "import pandas as pd\n",
    "import env\n",
    "\n",
    "mydb = pymysql.connect(host=env.dbHost, user=env.dbUser, passwd=env.dbPassword, database=env.dbDatabase)\n",
    "cursor = mydb.cursor()\n",
    "\n",
    "file_path = 'aset\\\\database.xlsx'\n",
    "df = pd.read_excel(file_path)\n",
    "df.fillna('', inplace=True)\n",
    "\n",
    "for i in range(0, 961):\n",
    "    row = df.iloc[i]\n",
    "    print((row[0], row[1], row[2], row[3], row[4], row[5], row[6], row[7], row[8], row[9], row[10], row[11], row[12], row[13]))\n",
    "    # query = \"\"\"INSERT INTO pemilih_1(PEMILIH_NO, PEMILIH_NIP, PEMILIH_NAMA, PEMILIH_JENIS_PEGAWAI, PEMILIH_TEMPAT_LAHIR, PEMILIH_TGL_LAHIR, PEMILIH_JENIS_KELAMIN, PEMILIH_JABATAN, PEMILIH_NO_TELP_WA, PEMILIH_EMAIL, PEMILIH_UNIT_KERJA, PEMILIH_SATUAN_KERJA, PEMILIH_OPD, PEMILIH_KETERANGAN)\n",
    "    #     VALUES(%s,%s,%s,%s,%s,%s,%s,%s,%s,%s,%s,%s,%s,%s)\"\"\"\n",
    "    # values = (row[0], row[1], row[2], row[3], row[4], row[5], row[6], row[7], row[8], row[9], row[10], row[11], row[12], row[13])\n",
    "    # cursor.execute(query, values)\n",
    "    # mydb.commit()\n",
    "\n",
    "cursor.close()"
   ]
  },
  {
   "cell_type": "code",
   "execution_count": null,
   "metadata": {},
   "outputs": [],
   "source": [
    "import pymysql\n",
    "import env\n",
    "import helper\n",
    "\n",
    "mydb = pymysql.connect(host=env.dbHost, user=env.dbUser, passwd=env.dbPassword, database=env.dbDatabase)\n",
    "cursor = mydb.cursor()\n",
    "\n",
    "cursor.execute(\"SELECT * FROM reciever\")\n",
    "reciever = helper.sqlresGet(cursor)\n",
    "cursor.close()\n",
    "\n",
    "print(reciever)"
   ]
  },
  {
   "cell_type": "code",
   "execution_count": 1,
   "metadata": {},
   "outputs": [
    {
     "name": "stdout",
     "output_type": "stream",
     "text": [
      "[True, []]\n"
     ]
    }
   ],
   "source": [
    "import helper\n",
    "\n",
    "new_id = helper.db_raw(f\"\"\"\n",
    "    INSERT INTO hooks (HOOKS_RESPONSE) VALUES ('{\"alim\"}')\n",
    "    \"\"\")\n",
    "\n",
    "print(new_id)"
   ]
  },
  {
   "cell_type": "code",
   "execution_count": 3,
   "metadata": {},
   "outputs": [
    {
     "name": "stdout",
     "output_type": "stream",
     "text": [
      "UPDATE hooks SET HOOKS_RESPONSE = %s WHERE 1 AND (HOOKS_ID = 1)\n",
      "[True, '']\n"
     ]
    }
   ],
   "source": [
    "import helper\n",
    "\n",
    "new_id = helper.db_update(\"hooks\",\n",
    "                    {\n",
    "                        \"HOOKS_RESPONSE\" : \"TESTING update\",\n",
    "                    },\n",
    "                    f\"HOOKS_ID = {1}\"\n",
    "                )\n",
    "\n",
    "print(new_id)"
   ]
  },
  {
   "cell_type": "code",
   "execution_count": 1,
   "metadata": {},
   "outputs": [
    {
     "name": "stdout",
     "output_type": "stream",
     "text": [
      "HERE\n",
      "[True, [{'HOOKS_ID': 1, 'HOOKS_DATETIME': datetime.datetime(2023, 10, 21, 20, 32, 25), 'HOOKS_RESPONSE': 'TESTING update', 'HOOKS_RESPONSE_id': None, 'HOOKS_RESPONSE_sender': None, 'HOOKS_RESPONSE_phone': None, 'HOOKS_RESPONSE_message': None}, {'HOOKS_ID': 3, 'HOOKS_DATETIME': datetime.datetime(2023, 10, 21, 19, 51, 16), 'HOOKS_RESPONSE': 'TESTING', 'HOOKS_RESPONSE_id': None, 'HOOKS_RESPONSE_sender': None, 'HOOKS_RESPONSE_phone': None, 'HOOKS_RESPONSE_message': None}, {'HOOKS_ID': 4, 'HOOKS_DATETIME': datetime.datetime(2023, 10, 21, 19, 51, 17), 'HOOKS_RESPONSE': 'TESTING', 'HOOKS_RESPONSE_id': None, 'HOOKS_RESPONSE_sender': None, 'HOOKS_RESPONSE_phone': None, 'HOOKS_RESPONSE_message': None}, {'HOOKS_ID': 5, 'HOOKS_DATETIME': datetime.datetime(2023, 10, 21, 19, 56, 46), 'HOOKS_RESPONSE': 'TESTING', 'HOOKS_RESPONSE_id': None, 'HOOKS_RESPONSE_sender': None, 'HOOKS_RESPONSE_phone': None, 'HOOKS_RESPONSE_message': None}]]\n"
     ]
    }
   ],
   "source": [
    "import helper\n",
    "\n",
    "new_id = helper.db_raw(\"\"\"\n",
    "                       SELECT * FROM hooks\n",
    "                       \"\"\")\n",
    "\n",
    "print(new_id)"
   ]
  },
  {
   "cell_type": "code",
   "execution_count": 5,
   "metadata": {},
   "outputs": [
    {
     "name": "stdout",
     "output_type": "stream",
     "text": [
      "\n",
      "FAILED UPDATE ANSWER FROM PEMILIH\n",
      "\n",
      "hooks => [{'HOOKS_ID': 1, 'HOOKS_DATETIME': datetime.datetime(2023, 10, 21, 20, 32, 25), 'HOOKS_RESPONSE': 'TESTING update', 'HOOKS_RESPONSE_id': None, 'HOOKS_RESPONSE_phone': None, 'HOOKS_RESPONSE_message': None}]\n",
      "\n",
      "FAILED UPDATE ANSWER FROM PEMILIH\n",
      "\n",
      "hooks => [{'HOOKS_ID': 1, 'HOOKS_DATETIME': datetime.datetime(2023, 10, 21, 20, 32, 25), 'HOOKS_RESPONSE': 'TESTING update', 'HOOKS_RESPONSE_id': None, 'HOOKS_RESPONSE_phone': None, 'HOOKS_RESPONSE_message': None}]\n"
     ]
    }
   ],
   "source": [
    "import json\n",
    "import datetime\n",
    "\n",
    "def datetime_serializer(obj):\n",
    "    if isinstance(obj, datetime.datetime):\n",
    "        return obj.isoformat()\n",
    "    return None\n",
    "\n",
    "params = [{'HOOKS_ID': 1, 'HOOKS_DATETIME': datetime.datetime(2023, 10, 21, 20, 32, 25), 'HOOKS_RESPONSE': 'TESTING update', 'HOOKS_RESPONSE_id': None, 'HOOKS_RESPONSE_phone': None, 'HOOKS_RESPONSE_message': None}]\n",
    "\n",
    "log = \"\"\n",
    "log += \"\\nFAILED UPDATE ANSWER FROM PEMILIH\"\n",
    "log += f\"\\n\\nhooks => {params}\"\n",
    "\n",
    "print(log)\n",
    "\n",
    "log = \"\"\n",
    "log += \"\\nFAILED UPDATE ANSWER FROM PEMILIH\"\n",
    "log += f\"\\n\\nhooks => \"+ str(params)\n",
    "\n",
    "print(log)\n"
   ]
  },
  {
   "cell_type": "code",
   "execution_count": 3,
   "metadata": {},
   "outputs": [
    {
     "name": "stdout",
     "output_type": "stream",
     "text": [
      "{'Nma': 'sa', 'uasda': 2, 'hmm': 'asdasdasd'}\n"
     ]
    }
   ],
   "source": [
    "data = {\n",
    "    \"Nma\" : \"sa\",\n",
    "    \"uasda\" : 2\n",
    "}\n",
    "data[\"hmm\"] = \"asdasdasd\"\n",
    "\n",
    "print(data)"
   ]
  },
  {
   "cell_type": "code",
   "execution_count": 1,
   "metadata": {},
   "outputs": [
    {
     "name": "stdout",
     "output_type": "stream",
     "text": [
      "create_hash 1234567862821317891962_)^EPD-l6TD\n",
      "Teks: 123456786282131789196\n",
      "Hash: d467bb1aa1c2dbc19e0c2c9724b004660386f5dab1fd2b16b64abd6a3cd2113e\n",
      "check_hash 123456786282131789196\n",
      "create_hash 1234567862821317891962_)^EPD-l6TD\n",
      "Hash cocok. Teks sesuai dengan hash.\n"
     ]
    }
   ],
   "source": [
    "import helper\n",
    "import env\n",
    "\n",
    "# Contoh penggunaan\n",
    "text = \"12345678\" + \"6282131789196\"\n",
    "hashed_text = helper.create_hash(text)\n",
    "\n",
    "print(\"Teks:\", text)\n",
    "print(\"Hash:\", hashed_text)\n",
    "\n",
    "# Contoh memeriksa hash\n",
    "text_to_check = \"123456786282131789196\" # Teks yang ingin diperiksa\n",
    "is_match = helper.check_hash(text_to_check, hashed_text)\n",
    "\n",
    "if is_match:\n",
    "    print(\"Hash cocok. Teks sesuai dengan hash.\")\n",
    "else:\n",
    "    print(\"Hash tidak cocok. Teks tidak sesuai dengan hash.\")"
   ]
  },
  {
   "cell_type": "code",
   "execution_count": 30,
   "metadata": {},
   "outputs": [
    {
     "name": "stdout",
     "output_type": "stream",
     "text": [
      "Kata Sandi: password\n",
      "Hash Kata Sandi: b'$2b$12$bnp/LxFIFQxXwZnMqu8ks.Y0pyzk4M1h1uMXbPZcUqDswxkDqpzT.'\n",
      "Salt: b'$2b$12$bnp/LxFIFQxXwZnMqu8ks.'\n",
      "Kata sandi cocok.\n"
     ]
    }
   ],
   "source": [
    "import bcrypt\n",
    "\n",
    "# Fungsi untuk membuat hash kata sandi\n",
    "def create_hashed_password(password):\n",
    "    # Menghasilkan salt yang unik\n",
    "    salt = bcrypt.gensalt()\n",
    "    \n",
    "    # Menghash kata sandi dengan salt\n",
    "    hashed_password = bcrypt.hashpw(password.encode('utf-8'), salt)\n",
    "\n",
    "    return hashed_password, salt\n",
    "\n",
    "# Fungsi untuk memeriksa kata sandi\n",
    "def check_password(password, hashed_password, salt):\n",
    "    # Menghash kata sandi yang diberikan dengan salt yang disimpan\n",
    "    new_hashed_password = bcrypt.hashpw(password.encode('utf-8'), salt)\n",
    "    \n",
    "    # Membandingkan hasil hash\n",
    "    return new_hashed_password == hashed_password\n",
    "\n",
    "# Contoh penggunaan\n",
    "password = \"password\"\n",
    "\n",
    "# Membuat hash kata sandi\n",
    "hashed_password, salt = create_hashed_password(password)\n",
    "\n",
    "print(\"Kata Sandi:\", password)\n",
    "print(\"Hash Kata Sandi:\", hashed_password)\n",
    "print(\"Salt:\", salt)\n",
    "\n",
    "# Memeriksa kata sandi\n",
    "password_to_check = \"password\"  # Kata sandi yang ingin diperiksa\n",
    "is_match = check_password(password_to_check, hashed_password, salt)\n",
    "\n",
    "if is_match:\n",
    "    print(\"Kata sandi cocok.\")\n",
    "else:\n",
    "    print(\"Kata sandi tidak cocok.\")\n"
   ]
  },
  {
   "cell_type": "code",
   "execution_count": 21,
   "metadata": {},
   "outputs": [
    {
     "name": "stdout",
     "output_type": "stream",
     "text": [
      "Kata Sandi: password\n",
      "Hash MD5 Kata Sandi: 5f4dcc3b5aa765d61d8327deb882cf99\n",
      "Kata sandi cocok.\n"
     ]
    }
   ],
   "source": [
    "import hashlib\n",
    "\n",
    "# Fungsi untuk membuat hash MD5 dari kata sandi\n",
    "def create_md5_hash(password):\n",
    "    md5 = hashlib.md5()\n",
    "    md5.update(password.encode('utf-8'))\n",
    "    return md5.hexdigest()\n",
    "\n",
    "# Fungsi untuk memeriksa kata sandi dengan hash MD5\n",
    "def check_md5_hash(password, hashed_password):\n",
    "    return create_md5_hash(password) == hashed_password\n",
    "\n",
    "# Contoh penggunaan\n",
    "password = \"password\"\n",
    "\n",
    "# Membuat hash MD5 dari kata sandi\n",
    "hashed_password = create_md5_hash(password)\n",
    "\n",
    "print(\"Kata Sandi:\", password)\n",
    "print(\"Hash MD5 Kata Sandi:\", hashed_password)\n",
    "\n",
    "# Memeriksa kata sandi\n",
    "password_to_check = \"password\"  # Kata sandi yang ingin diperiksa\n",
    "is_match = check_md5_hash(password_to_check, hashed_password)\n",
    "\n",
    "if is_match:\n",
    "    print(\"Kata sandi cocok.\")\n",
    "else:\n",
    "    print(\"Kata sandi tidak cocok.\")\n"
   ]
  },
  {
   "cell_type": "code",
   "execution_count": 7,
   "metadata": {},
   "outputs": [
    {
     "data": {
      "text/plain": [
       "[{'HOOKS_ID': 1,\n",
       "  'HOOKS_DATETIME': datetime.datetime(2023, 10, 21, 20, 32, 25),\n",
       "  'HOOKS_RESPONSE': 'TESTING update',\n",
       "  'HOOKS_RESPONSE_id': None,\n",
       "  'HOOKS_RESPONSE_sender': None,\n",
       "  'HOOKS_RESPONSE_phone': None,\n",
       "  'HOOKS_RESPONSE_message': None},\n",
       " {'HOOKS_ID': 3,\n",
       "  'HOOKS_DATETIME': datetime.datetime(2023, 10, 21, 19, 51, 16),\n",
       "  'HOOKS_RESPONSE': 'TESTING',\n",
       "  'HOOKS_RESPONSE_id': None,\n",
       "  'HOOKS_RESPONSE_sender': None,\n",
       "  'HOOKS_RESPONSE_phone': None,\n",
       "  'HOOKS_RESPONSE_message': None},\n",
       " {'HOOKS_ID': 4,\n",
       "  'HOOKS_DATETIME': datetime.datetime(2023, 10, 21, 19, 51, 17),\n",
       "  'HOOKS_RESPONSE': 'TESTING',\n",
       "  'HOOKS_RESPONSE_id': None,\n",
       "  'HOOKS_RESPONSE_sender': None,\n",
       "  'HOOKS_RESPONSE_phone': None,\n",
       "  'HOOKS_RESPONSE_message': None},\n",
       " {'HOOKS_ID': 5,\n",
       "  'HOOKS_DATETIME': datetime.datetime(2023, 10, 21, 19, 56, 46),\n",
       "  'HOOKS_RESPONSE': 'TESTING',\n",
       "  'HOOKS_RESPONSE_id': None,\n",
       "  'HOOKS_RESPONSE_sender': None,\n",
       "  'HOOKS_RESPONSE_phone': None,\n",
       "  'HOOKS_RESPONSE_message': None}]"
      ]
     },
     "execution_count": 7,
     "metadata": {},
     "output_type": "execute_result"
    }
   ],
   "source": [
    "import helper\n",
    "saved_token = helper.db_raw(f\"\"\"\n",
    "                SELECT * FROM hooks\n",
    "            \"\"\")[1]\n",
    "\n",
    "saved_token"
   ]
  }
 ],
 "metadata": {
  "kernelspec": {
   "display_name": "Python 3",
   "language": "python",
   "name": "python3"
  },
  "language_info": {
   "codemirror_mode": {
    "name": "ipython",
    "version": 3
   },
   "file_extension": ".py",
   "mimetype": "text/x-python",
   "name": "python",
   "nbconvert_exporter": "python",
   "pygments_lexer": "ipython3",
   "version": "3.8.0"
  }
 },
 "nbformat": 4,
 "nbformat_minor": 2
}
